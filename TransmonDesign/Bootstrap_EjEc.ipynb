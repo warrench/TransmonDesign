{
 "cells": [
  {
   "cell_type": "code",
   "execution_count": 43,
   "metadata": {},
   "outputs": [],
   "source": [
    "import numpy as np\n",
    "from cooperpairbox import Hcpb\n",
    "import matplotlib.pyplot as plt\n",
    "import lmfit as lm"
   ]
  },
  {
   "cell_type": "code",
   "execution_count": 44,
   "metadata": {},
   "outputs": [],
   "source": [
    "def bootstrap(func, data, N=100):\n",
    "    data = np.array(data)\n",
    "    strapped = []    \n",
    "    for i in range(N):\n",
    "        if len(data.shape)>1:\n",
    "            # take these in pairs of [f01, anharm]\n",
    "            # don't mix and match\n",
    "            new_choice = np.random.choice(len(data), len(data))\n",
    "            new_sample = [data[i, :] for i in new_choice]\n",
    "        else:\n",
    "            new_sample = np.random.choice(data, data.shape)\n",
    "        strapped.append(func(new_sample))\n",
    "    return np.array(strapped)\n",
    "\n",
    "def run_bootstrap(new_sample):\n",
    "    cpb = Hcpb(nlevels=18)\n",
    "    Ejs = []\n",
    "    Ecs = []\n",
    "    for sample in new_sample:\n",
    "        Ej, Ec = cpb.params_from_spectrum(sample[0], sample[1])\n",
    "        Ejs.append(Ej)\n",
    "        Ecs.append(Ec)\n",
    "    return [np.mean(Ejs), np.mean(Ecs)]\n",
    "\n"
   ]
  },
  {
   "cell_type": "code",
   "execution_count": 45,
   "metadata": {},
   "outputs": [
    {
     "name": "stdout",
     "output_type": "stream",
     "text": [
      "12.777988500720001\n",
      "0.212346\n",
      "4.435636212756457\n",
      "-0.24020983814068408\n"
     ]
    }
   ],
   "source": [
    "# Instantiate the cooperpairbox class\n",
    "cpb = Hcpb(nlevels=50)\n",
    "# Once Ej and Ec exist it can calculate any properties\n",
    "# Can dynamically assign an Ej and Ec value\n",
    "EjEc = 60.17532\n",
    "Ec = 0.212346\n",
    "cpb.Ej = EjEc*Ec\n",
    "cpb.Ec = Ec\n",
    "print(EjEc*Ec)\n",
    "print(Ec)\n",
    "# After both have been assigned it will automatically calculate any property asked for\n",
    "# that is implemented in the methods\n",
    "print(cpb.fij(0,1))\n",
    "print(cpb.anharm())\n",
    "\n",
    "f01 = cpb.fij(0,1)\n",
    "anharm = cpb.anharm()"
   ]
  },
  {
   "cell_type": "code",
   "execution_count": 46,
   "metadata": {},
   "outputs": [
    {
     "name": "stdout",
     "output_type": "stream",
     "text": [
      "(12.77798850072002, 0.21234599999999965)\n",
      "Difference in value from the ideal\n",
      "1.9539925233402755e-14 3.608224830031759e-16\n"
     ]
    }
   ],
   "source": [
    "# can also go the other way\n",
    "# if you supply a spectrum it will perform an optimization to find\n",
    "# the Ej and Ec that results in f01 and anharm (up to numerical accuracy)\n",
    "\n",
    "#Instantiate a completely new instance of the class\n",
    "cpb_new = Hcpb(nlevels=25)\n",
    "res = cpb_new.params_from_spectrum(f01, anharm)\n",
    "print(res)\n",
    "print(\"Difference in value from the ideal\")\n",
    "print(np.abs(res[0]-EjEc*Ec), np.abs(res[1]-Ec))\n"
   ]
  },
  {
   "cell_type": "code",
   "execution_count": 47,
   "metadata": {},
   "outputs": [
    {
     "name": "stdout",
     "output_type": "stream",
     "text": [
      "[[Fit Statistics]]\n",
      "    # fitting method   = leastsq\n",
      "    # function evals   = 16\n",
      "    # data points      = 2\n",
      "    # variables        = 2\n",
      "    chi-square         = 7.8886e-31\n",
      "    reduced chi-square = 7.8886e-31\n",
      "    Akaike info crit   = -136.015730\n",
      "    Bayesian info crit = -138.629436\n",
      "[[Variables]]\n",
      "    Ej:  12.7779885 +/- 5.8939e-15 (0.00%) (init = 11.37731)\n",
      "    Ec:  0.21234600 +/- 6.8956e-17 (0.00%) (init = 0.2402098)\n",
      "[[Correlations]] (unreported correlations are < 0.100)\n",
      "    C(Ej, Ec) = -0.570\n",
      "None\n"
     ]
    }
   ],
   "source": [
    "# print the verbose version\n",
    "\n",
    "res = cpb_new.params_from_spectrum(f01, anharm, verbose=True)\n",
    "print(lm.report_fit(res))"
   ]
  },
  {
   "cell_type": "code",
   "execution_count": 48,
   "metadata": {},
   "outputs": [
    {
     "name": "stdout",
     "output_type": "stream",
     "text": [
      "3.5962800496668095 -0.22613979371682788\n",
      "(32, 2)\n",
      "32\n",
      "[ 3.59628005 -0.22613979]\n"
     ]
    }
   ],
   "source": [
    "# Given an array of f01 and anharmonicities\n",
    "# Commpute the bootstrap distribution of the distribution\n",
    "\n",
    "# Let's assume we have identical qubits with some guassian noise\n",
    "# equal to 5% of the mean value\n",
    "# Doesn't need to be Gaussian can be anything\n",
    "\n",
    "# This should be the empirical distribution extracted from the 32 identical\n",
    "# transmons\n",
    "f01 = 4.0 + np.random.normal(0, 0.05*4.0, 32)\n",
    "anharm = -0.230 + np.random.normal(0, 0.05*0.23, 32)\n",
    "print(f01[0], anharm[0])\n",
    "\n",
    "# Stack these together. This should be the shape of the input data\n",
    "\n",
    "spec_data = np.stack((f01, anharm), axis=1)\n",
    "print(spec_data.shape)\n",
    "print(len(spec_data))\n",
    "print(spec_data[0, :])\n",
    "\n",
    "\n",
    "\n"
   ]
  },
  {
   "cell_type": "code",
   "execution_count": 49,
   "metadata": {},
   "outputs": [],
   "source": [
    "# From the original data of 32 identical qubits\n",
    "\n",
    "# 1 - Resample the f01 and anharmonicities of those qubits\n",
    "#     up to a sample size of 32\n",
    "# 2 - For each of the new pairs of (f01, anharm) determine\n",
    "#     the Ej and Ec from the spectrum\n",
    "# 3 - Compute the mean(Ej) and mean(Ec) and append this to a list\n",
    "# 4 - Repeat this N times\n",
    "\n",
    "# 5 - This resampling tells you how mean(Ej) and mean(Ec) can vary\n",
    "#     given the observed original 32 qubits\n",
    "\n",
    "boot_data = bootstrap(run_bootstrap, spec_data, N=1000)"
   ]
  },
  {
   "cell_type": "code",
   "execution_count": 50,
   "metadata": {},
   "outputs": [
    {
     "name": "stdout",
     "output_type": "stream",
     "text": [
      "(1000, 2)\n"
     ]
    },
    {
     "data": {
      "image/png": "[encoded data removed]",
      "text/plain": [
       "<Figure size 432x288 with 1 Axes>"
      ]
     },
     "metadata": {
      "needs_background": "light"
     },
     "output_type": "display_data"
    },
    {
     "data": {
      "image/png": "[encoded data removed]",
      "text/plain": [
       "<Figure size 432x288 with 1 Axes>"
      ]
     },
     "metadata": {
      "needs_background": "light"
     },
     "output_type": "display_data"
    }
   ],
   "source": [
    "print(boot_data.shape)\n",
    "plt.hist(boot_data[:, 0], bins='auto')\n",
    "plt.show()\n",
    "plt.hist(boot_data[:, 1], bins='auto')\n",
    "plt.show()"
   ]
  }
 ],
 "metadata": {
  "kernelspec": {
   "display_name": "base",
   "language": "python",
   "name": "python3"
  },
  "language_info": {
   "codemirror_mode": {
    "name": "ipython",
    "version": 3
   },
   "file_extension": ".py",
   "mimetype": "text/x-python",
   "name": "python",
   "nbconvert_exporter": "python",
   "pygments_lexer": "ipython3",
   "version": "3.6.8"
  },
  "orig_nbformat": 4,
  "vscode": {
   "interpreter": {
    "hash": "39953ae7edd205c5c6f29b73215da5034921279bc5959db3abfe368065212d13"
   }
  }
 },
 "nbformat": 4,
 "nbformat_minor": 2
}
