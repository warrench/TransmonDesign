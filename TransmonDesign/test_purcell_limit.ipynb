{
 "cells": [
  {
   "cell_type": "code",
   "execution_count": 1,
   "metadata": {},
   "outputs": [],
   "source": [
    "import numpy as np\n",
    "import matplotlib.pyplot as plt\n",
    "# import cooperpairbox as cpb\n",
    "import qutip as qt"
   ]
  },
  {
   "cell_type": "code",
   "execution_count": 2,
   "metadata": {},
   "outputs": [],
   "source": [
    "def purcell_rate(kappa, g, delta, ratio=1):\n",
    "    return ratio*kappa*(g/delta)**2"
   ]
  },
  {
   "cell_type": "code",
   "execution_count": 3,
   "metadata": {},
   "outputs": [
    {
     "name": "stdout",
     "output_type": "stream",
     "text": [
      "37.357201920181\n"
     ]
    }
   ],
   "source": [
    "# Testing whether detuned frame works\n",
    "\n",
    "\n",
    "wq = 2*np.pi * 5000\n",
    "\n",
    "delta = 2* np.pi * 1300\n",
    "wr = wq + delta\n",
    "# qt = wr-delta\n",
    "g = 2* np.pi* 60\n",
    "\n",
    "kappa = 2*np.pi*2  # cavity dissipation rate\n",
    "gamma = 0.0    # atom dissipation rate\n",
    "Gamma = 0.0    # atomic pump rate\n",
    "\n",
    "print(1/(purcell_rate(kappa, g, delta, ratio=1)*1e6)*1e6)\n",
    "\n",
    "\n",
    "N = 20\n",
    "n_th_a = 0.0\n",
    "\n",
    "tlist = np.linspace(0, 100, 101)"
   ]
  },
  {
   "cell_type": "code",
   "execution_count": 11,
   "metadata": {},
   "outputs": [
    {
     "name": "stdout",
     "output_type": "stream",
     "text": [
      "18\n",
      "21\n",
      "0.04600717869001153\n",
      "0.9989411091295549\n"
     ]
    }
   ],
   "source": [
    "psi0_bare = qt.tensor(qt.basis(N,0), qt.basis(2,1))   # Initial state resonator in vacuum qubit in excited\n",
    "\n",
    "\n",
    "\n",
    "a = qt.tensor(qt.destroy(N), qt.qeye(2))\n",
    "sm = qt.tensor(qt.qeye(N), qt.destroy(2))\n",
    "V = delta*sm.dag()*sm + g*(a.dag()*sm + a*sm.dag())\n",
    "_, states = V.eigenstates()\n",
    "\n",
    "for i, state in enumerate(states):\n",
    "    if qt.fidelity(psi0_bare, state)>0:\n",
    "        print(i)\n",
    "# print(qt.fidelity(psi0_bare, states[18]))\n",
    "# print(qt.fidelity(psi0_bare, states[21]))\n",
    "\n",
    "\n",
    "# V = wr*a.dag()*a + wq*sm.dag()*sm + g*(a.dag()*sm + a*sm.dag())"
   ]
  },
  {
   "cell_type": "code",
   "execution_count": 12,
   "metadata": {},
   "outputs": [],
   "source": [
    "# collapse operators\n",
    "c_ops = []\n",
    "\n",
    "rate = kappa * (1 + n_th_a)\n",
    "if rate > 0.0:\n",
    "    c_ops.append(np.sqrt(rate) * a)\n",
    "\n",
    "rate = kappa * n_th_a\n",
    "if rate > 0.0:\n",
    "    c_ops.append(np.sqrt(rate) * a.dag())\n",
    "\n",
    "rate = gamma\n",
    "if rate > 0.0:\n",
    "    c_ops.append(np.sqrt(rate) * sm)\n",
    "\n",
    "rate = Gamma\n",
    "if rate > 0.0:\n",
    "    c_ops.append(np.sqrt(rate) * sm.dag())"
   ]
  },
  {
   "cell_type": "code",
   "execution_count": 15,
   "metadata": {},
   "outputs": [],
   "source": [
    "opt = qt.Options(nsteps=50000)\n",
    "output = qt.mesolve(V, states[21], tlist, c_ops, [a.dag()*a, sm.dag()*sm], options=opt)"
   ]
  },
  {
   "cell_type": "code",
   "execution_count": 16,
   "metadata": {},
   "outputs": [
    {
     "data": {
      "text/plain": [
       "Text(0, 0.5, 'Occupation probability')"
      ]
     },
     "execution_count": 16,
     "metadata": {},
     "output_type": "execute_result"
    },
    {
     "data": {
      "image/png": "[encoded data removed]",
      "text/plain": [
       "<Figure size 576x432 with 1 Axes>"
      ]
     },
     "metadata": {
      "needs_background": "light"
     },
     "output_type": "display_data"
    }
   ],
   "source": [
    "n_c = output.expect[0]\n",
    "n_a = output.expect[1]\n",
    "\n",
    "fig, axes = plt.subplots(1, 1, figsize=(8, 6))\n",
    "\n",
    "axes.plot(tlist, n_c, label=\"Cavity\")\n",
    "axes.plot(tlist, n_a, label=\"Atom excited state\")\n",
    "# axes.set_xlim(0, 150)\n",
    "axes.legend(loc=0)\n",
    "axes.set_xlabel(\"Time\")\n",
    "axes.set_ylabel(\"Occupation probability\")"
   ]
  },
  {
   "cell_type": "code",
   "execution_count": 222,
   "metadata": {},
   "outputs": [],
   "source": [
    "import lmfit as lm"
   ]
  },
  {
   "cell_type": "code",
   "execution_count": 223,
   "metadata": {},
   "outputs": [],
   "source": [
    "exp_decay = lm.models.ExponentialModel()"
   ]
  },
  {
   "cell_type": "code",
   "execution_count": 224,
   "metadata": {},
   "outputs": [
    {
     "name": "stdout",
     "output_type": "stream",
     "text": [
      "Parameters([('amplitude', <Parameter 'amplitude', value=0.9959213435587602, bounds=[-inf:inf]>), ('decay', <Parameter 'decay', value=37.592590792166845, bounds=[-inf:inf]>)])\n"
     ]
    }
   ],
   "source": [
    "params = exp_decay.guess(n_a, tlist)\n",
    "print(params)"
   ]
  },
  {
   "cell_type": "code",
   "execution_count": 225,
   "metadata": {},
   "outputs": [],
   "source": [
    "res = exp_decay.fit(n_a, params, x=tlist)"
   ]
  },
  {
   "cell_type": "code",
   "execution_count": 226,
   "metadata": {},
   "outputs": [
    {
     "name": "stdout",
     "output_type": "stream",
     "text": [
      "[[Model]]\n",
      "    Model(exponential)\n",
      "[[Fit Statistics]]\n",
      "    # fitting method   = leastsq\n",
      "    # function evals   = 7\n",
      "    # data points      = 101\n",
      "    # variables        = 2\n",
      "    chi-square         = 1.6354e-05\n",
      "    reduced chi-square = 1.6519e-07\n",
      "    Akaike info crit   = -1575.25046\n",
      "    Bayesian info crit = -1570.02022\n",
      "[[Variables]]\n",
      "    amplitude:  0.99619862 +/- 1.3249e-04 (0.01%) (init = 0.9959213)\n",
      "    decay:      37.5781728 +/- 0.00752437 (0.02%) (init = 37.59259)\n",
      "[[Correlations]] (unreported correlations are < 0.100)\n",
      "    C(amplitude, decay) = -0.714\n"
     ]
    },
    {
     "data": {
      "image/png": "[encoded data removed]",
      "text/plain": [
       "<Figure size 432x288 with 1 Axes>"
      ]
     },
     "metadata": {
      "needs_background": "light"
     },
     "output_type": "display_data"
    }
   ],
   "source": [
    "res.plot_fit()\n",
    "print(res.fit_report())"
   ]
  },
  {
   "cell_type": "code",
   "execution_count": null,
   "metadata": {},
   "outputs": [],
   "source": []
  }
 ],
 "metadata": {
  "kernelspec": {
   "display_name": "newbase",
   "language": "python",
   "name": "python3"
  },
  "language_info": {
   "codemirror_mode": {
    "name": "ipython",
    "version": 3
   },
   "file_extension": ".py",
   "mimetype": "text/x-python",
   "name": "python",
   "nbconvert_exporter": "python",
   "pygments_lexer": "ipython3",
   "version": "3.7.12"
  },
  "orig_nbformat": 4,
  "vscode": {
   "interpreter": {
    "hash": "d3255648b7135afaed4444e5cd86d7942a033c6253f028af262607c250a892f8"
   }
  }
 },
 "nbformat": 4,
 "nbformat_minor": 2
}
